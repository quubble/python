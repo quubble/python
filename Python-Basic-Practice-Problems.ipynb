{
 "cells": [
  {
   "cell_type": "code",
   "execution_count": 1,
   "id": "d90661ec-1e84-4965-a0de-41981489ab08",
   "metadata": {},
   "outputs": [
    {
     "name": "stdout",
     "output_type": "stream",
     "text": [
      "The sum of 5 and 10 is: 15\n",
      "The multiplication of 5 and 10 is: 50\n"
     ]
    }
   ],
   "source": [
    "def calculate_sum_and_multiplication(num1, num2):\n",
    "    sum_value = num1 + num2\n",
    "    multiplication_value = num1 * num2\n",
    "\n",
    "    return sum_value, multiplication_value\n",
    "\n",
    "# Example usage\n",
    "#In this example, the function calculate_sum_and_multiplication takes two arguments, num1 and num2. \n",
    "#The function calculates the sum and multiplication of the two numbers and returns them as a tuple.\n",
    "\n",
    "num1 = 5\n",
    "num2 = 10\n",
    "sum_value, multiplication_value = calculate_sum_and_multiplication(num1, num2)\n",
    "\n",
    "print(f\"The sum of {num1} and {num2} is: {sum_value}\")\n",
    "print(f\"The multiplication of {num1} and {num2} is: {multiplication_value}\")"
   ]
  },
  {
   "cell_type": "code",
   "execution_count": 2,
   "id": "f9ca4587-1535-4e70-8b83-f06a88e0b5b4",
   "metadata": {},
   "outputs": [
    {
     "name": "stdin",
     "output_type": "stream",
     "text": [
      "Enter the first number:  1\n",
      "Enter the second number:  2\n"
     ]
    },
    {
     "name": "stdout",
     "output_type": "stream",
     "text": [
      "The sum and multiplication of the two numbers are: (3.0, 2.0)\n"
     ]
    }
   ],
   "source": [
    "def calculate_sum_and_multiplication():\n",
    "    # Taking input from the user for two numbers\n",
    "    num1 = float(input(\"Enter the first number: \"))\n",
    "    num2 = float(input(\"Enter the second number: \"))\n",
    "    \n",
    "    # Calculating the multiplication and sum of the two numbers\n",
    "    multiplication = num1 * num2\n",
    "    addition = num1 + num2\n",
    "    \n",
    "    # Returning the results as a tuple\n",
    "    return (addition, multiplication)\n",
    "\n",
    "# Calling the function to calculate the sum and multiplication\n",
    "result = calculate_sum_and_multiplication()\n",
    "\n",
    "# Displaying the results\n",
    "print(f\"The sum and multiplication of the two numbers are: {result}\")"
   ]
  },
  {
   "cell_type": "code",
   "execution_count": 3,
   "id": "be8c760c-c6c5-4bae-ac02-f57d254a7c36",
   "metadata": {},
   "outputs": [
    {
     "name": "stdin",
     "output_type": "stream",
     "text": [
      "Enter the first number:  1\n",
      "Enter the second number:  23\n"
     ]
    },
    {
     "name": "stdout",
     "output_type": "stream",
     "text": [
      "The multiplication of 1.0 and 23.0 is: 23.0\n",
      "The sum of 1.0 and 23.0 is: 24.0\n"
     ]
    }
   ],
   "source": [
    "def calculate_operations():\n",
    "    # Taking input from the user for two numbers\n",
    "    num1 = float(input(\"Enter the first number: \"))\n",
    "    num2 = float(input(\"Enter the second number: \"))\n",
    "    \n",
    "    # Calculating the multiplication and sum of the two numbers\n",
    "    multiplication = num1 * num2\n",
    "    addition = num1 + num2\n",
    "    \n",
    "    # Displaying the results\n",
    "    print(f\"The multiplication of {num1} and {num2} is: {multiplication}\")\n",
    "    print(f\"The sum of {num1} and {num2} is: {addition}\")\n",
    "\n",
    "# Calling the function to calculate the operations\n",
    "calculate_operations()\n"
   ]
  },
  {
   "cell_type": "code",
   "execution_count": 7,
   "id": "2de5fcc8-4cbe-4f49-9c48-4e9963ed0582",
   "metadata": {},
   "outputs": [
    {
     "name": "stdin",
     "output_type": "stream",
     "text": [
      "Enter the start number:  1\n",
      "Enter the end number:  2\n"
     ]
    },
    {
     "name": "stdout",
     "output_type": "stream",
     "text": [
      "1 x 1 = 1\n",
      "1 x 2 = 2\n",
      "1 x 3 = 3\n",
      "1 x 4 = 4\n",
      "1 x 5 = 5\n",
      "1 x 6 = 6\n",
      "1 x 7 = 7\n",
      "1 x 8 = 8\n",
      "1 x 9 = 9\n",
      "1 x 10 = 10\n",
      "\n",
      "2 x 1 = 2\n",
      "2 x 2 = 4\n",
      "2 x 3 = 6\n",
      "2 x 4 = 8\n",
      "2 x 5 = 10\n",
      "2 x 6 = 12\n",
      "2 x 7 = 14\n",
      "2 x 8 = 16\n",
      "2 x 9 = 18\n",
      "2 x 10 = 20\n",
      "\n"
     ]
    }
   ],
   "source": [
    "#Python function: Print multiplication table, taking a start of table-number and the end of table number as user input\n",
    "\n",
    "def print_multiplication_table(start, end):\n",
    "    # Loop through all the numbers between start and end\n",
    "    for i in range(start, end+1):\n",
    "        # Print the multiplication table for the current number\n",
    "        for j in range(1, 11):\n",
    "            print(f\"{i} x {j} = {i*j}\")\n",
    "        # Add a newline character to separate the multiplication tables\n",
    "        print()\n",
    "\n",
    "# Get the start and end numbers from the user\n",
    "start = int(input(\"Enter the start number: \"))\n",
    "end = int(input(\"Enter the end number: \"))\n",
    "\n",
    "# Call the function to print the multiplication table\n",
    "print_multiplication_table(start, end)"
   ]
  },
  {
   "cell_type": "code",
   "execution_count": null,
   "id": "d897faf9-777f-4c74-a186-b9900c015290",
   "metadata": {},
   "outputs": [],
   "source": []
  }
 ],
 "metadata": {
  "kernelspec": {
   "display_name": "Python 3 (ipykernel)",
   "language": "python",
   "name": "python3"
  },
  "language_info": {
   "codemirror_mode": {
    "name": "ipython",
    "version": 3
   },
   "file_extension": ".py",
   "mimetype": "text/x-python",
   "name": "python",
   "nbconvert_exporter": "python",
   "pygments_lexer": "ipython3",
   "version": "3.12.2"
  }
 },
 "nbformat": 4,
 "nbformat_minor": 5
}
